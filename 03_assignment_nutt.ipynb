{
  "nbformat": 4,
  "nbformat_minor": 0,
  "metadata": {
    "celltoolbar": "Create Assignment",
    "kernelspec": {
      "display_name": "Python 3 (ipykernel)",
      "language": "python",
      "name": "python3"
    },
    "language_info": {
      "codemirror_mode": {
        "name": "ipython",
        "version": 3
      },
      "file_extension": ".py",
      "mimetype": "text/x-python",
      "name": "python",
      "nbconvert_exporter": "python",
      "pygments_lexer": "ipython3",
      "version": "3.8.10"
    },
    "varInspector": {
      "cols": {
        "lenName": 16,
        "lenType": 16,
        "lenVar": 40
      },
      "kernels_config": {
        "python": {
          "delete_cmd_postfix": "",
          "delete_cmd_prefix": "del ",
          "library": "var_list.py",
          "varRefreshCmd": "print(var_dic_list())"
        },
        "r": {
          "delete_cmd_postfix": ") ",
          "delete_cmd_prefix": "rm(",
          "library": "var_list.r",
          "varRefreshCmd": "cat(var_dic_list()) "
        }
      },
      "types_to_exclude": [
        "module",
        "function",
        "builtin_function_or_method",
        "instance",
        "_Feature"
      ],
      "window_display": false
    },
    "colab": {
      "name": "03_assignment_nutt.ipynb",
      "provenance": [],
      "include_colab_link": true
    }
  },
  "cells": [
    {
      "cell_type": "markdown",
      "metadata": {
        "id": "view-in-github",
        "colab_type": "text"
      },
      "source": [
        "<a href=\"https://colab.research.google.com/github/ericrnutt5/earth-analytics-python-env/blob/main/03_assignment_nutt.ipynb\" target=\"_parent\"><img src=\"https://colab.research.google.com/assets/colab-badge.svg\" alt=\"Open In Colab\"/></a>"
      ]
    },
    {
      "cell_type": "markdown",
      "metadata": {
        "id": "G2yKr3mPDuer"
      },
      "source": [
        "Before you turn this problem in, make sure everything runs as expected. \n",
        "If you are running this notebook in Jupyter Notebook on your computer:\n",
        "    1. **Restart the kernel** (in the menubar, select Kernel$\\rightarrow$Restart)\n",
        "    2. **Run all cells** (in the menubar, select Cell$\\rightarrow$Run All).\n",
        "    \n",
        "If you are running this notebook in Google Colab:\n",
        "    1. **Restart and run all** (in the menubar, select Runtime$\\rightarrow$Restart and run all).\n",
        "\n",
        "Make sure you fill in any place that says `YOUR CODE HERE` or \"YOUR ANSWER HERE\", as well as your name and collaborators below:"
      ]
    },
    {
      "cell_type": "code",
      "metadata": {
        "id": "V21ql0mrDue6"
      },
      "source": [
        "NAME = \"Eric Nutt\"\n",
        "COLLABORATORS = \"\""
      ],
      "execution_count": 1,
      "outputs": []
    },
    {
      "cell_type": "markdown",
      "metadata": {
        "id": "Kfq3KFioDue_"
      },
      "source": [
        "---"
      ]
    },
    {
      "cell_type": "markdown",
      "metadata": {
        "deletable": false,
        "editable": false,
        "nbgrader": {
          "checksum": "8115d981c69746150727eb6228c8d5a7",
          "grade": false,
          "grade_id": "header-logo",
          "locked": true,
          "schema_version": 3,
          "solution": false
        },
        "id": "iHM_ixfDDufA"
      },
      "source": [
        "<img style=\"float: left;\" src=\"earth-lab-logo-rgb.png\" width=\"150\" height=\"150\" />\n",
        "\n",
        "# Earth Analytics Education"
      ]
    },
    {
      "cell_type": "markdown",
      "metadata": {
        "deletable": false,
        "editable": false,
        "nbgrader": {
          "checksum": "debd0d845e02d7122906d7ce8fd27e9c",
          "grade": false,
          "grade_id": "hw-instructions",
          "locked": true,
          "schema_version": 3,
          "solution": false
        },
        "id": "xcASrxraDufC"
      },
      "source": [
        "# Week 3 Homework Template\n",
        "\n",
        "To complete assignment 3, be sure you have reviewed Chapters 10-11 from Sections 4 and 5 and the new **Chapter 7 from Section 3** of the <a href=\"https://www.earthdatascience.org/courses/intro-to-earth-data-science/\" target=\"_blank\">Intro to Earth Data Science</a> online textbook, which covers version control with git/GitHub.   \n",
        "\n",
        "Read the instructions for each question carefully to successfully complete the required tasks.\n",
        "\n",
        "Be sure to use clear and succinct names for variables, etc, and to organize your code to support readability.\n",
        "\n",
        "For this assignment, you will use the following data on monthly average snowfall for <a href=\"https://www.esrl.noaa.gov/psd/boulder/bouldersnow.html\" target=\"_blank\">Boulder, Colorado, provided by the U.S. National Oceanic and Atmospheric Administration (NOAA).</a> \n",
        "\n",
        "Month  | Mean Snowfall (Inches) |\n",
        "--- | --- |\n",
        "Jan | 10.0 |\n",
        "Feb | 10.8 |\n",
        "Mar | 17.4 |\n",
        "Apr | 9.0 |\n",
        "May | 1.5 |\n",
        "June | 0.0 |\n",
        "July | 0.0 |\n",
        "Aug | 0.0 |\n",
        "Sept | 1.5 |\n",
        "Oct | 5.1 |\n",
        "Nov | 11.1 |\n",
        "Dec | 13.0 |"
      ]
    },
    {
      "cell_type": "code",
      "metadata": {
        "id": "02ynSoyFDufD",
        "colab": {
          "base_uri": "https://localhost:8080/"
        },
        "outputId": "f09c4a23-0e14-4760-a4f9-8b5d2580922e"
      },
      "source": [
        "# Install required packages\n",
        "!pip install matplotcheck"
      ],
      "execution_count": 2,
      "outputs": [
        {
          "output_type": "stream",
          "name": "stdout",
          "text": [
            "Requirement already satisfied: matplotcheck in /usr/local/lib/python3.7/dist-packages (0.1.4)\n",
            "Requirement already satisfied: rasterio in /usr/local/lib/python3.7/dist-packages (from matplotcheck) (1.2.8)\n",
            "Requirement already satisfied: matplotlib>=2.0.0 in /usr/local/lib/python3.7/dist-packages (from matplotcheck) (3.2.2)\n",
            "Requirement already satisfied: scipy in /usr/local/lib/python3.7/dist-packages (from matplotcheck) (1.4.1)\n",
            "Requirement already satisfied: folium in /usr/local/lib/python3.7/dist-packages (from matplotcheck) (0.8.3)\n",
            "Requirement already satisfied: numpy>=1.14.0 in /usr/local/lib/python3.7/dist-packages (from matplotcheck) (1.19.5)\n",
            "Requirement already satisfied: geopandas in /usr/local/lib/python3.7/dist-packages (from matplotcheck) (0.9.0)\n",
            "Requirement already satisfied: python-dateutil>=2.1 in /usr/local/lib/python3.7/dist-packages (from matplotlib>=2.0.0->matplotcheck) (2.8.2)\n",
            "Requirement already satisfied: cycler>=0.10 in /usr/local/lib/python3.7/dist-packages (from matplotlib>=2.0.0->matplotcheck) (0.10.0)\n",
            "Requirement already satisfied: kiwisolver>=1.0.1 in /usr/local/lib/python3.7/dist-packages (from matplotlib>=2.0.0->matplotcheck) (1.3.1)\n",
            "Requirement already satisfied: pyparsing!=2.0.4,!=2.1.2,!=2.1.6,>=2.0.1 in /usr/local/lib/python3.7/dist-packages (from matplotlib>=2.0.0->matplotcheck) (2.4.7)\n",
            "Requirement already satisfied: six in /usr/local/lib/python3.7/dist-packages (from cycler>=0.10->matplotlib>=2.0.0->matplotcheck) (1.15.0)\n",
            "Requirement already satisfied: requests in /usr/local/lib/python3.7/dist-packages (from folium->matplotcheck) (2.23.0)\n",
            "Requirement already satisfied: branca>=0.3.0 in /usr/local/lib/python3.7/dist-packages (from folium->matplotcheck) (0.4.2)\n",
            "Requirement already satisfied: jinja2 in /usr/local/lib/python3.7/dist-packages (from folium->matplotcheck) (2.11.3)\n",
            "Requirement already satisfied: fiona>=1.8 in /usr/local/lib/python3.7/dist-packages (from geopandas->matplotcheck) (1.8.20)\n",
            "Requirement already satisfied: pandas>=0.24.0 in /usr/local/lib/python3.7/dist-packages (from geopandas->matplotcheck) (1.1.5)\n",
            "Requirement already satisfied: pyproj>=2.2.0 in /usr/local/lib/python3.7/dist-packages (from geopandas->matplotcheck) (3.2.0)\n",
            "Requirement already satisfied: shapely>=1.6 in /usr/local/lib/python3.7/dist-packages (from geopandas->matplotcheck) (1.7.1)\n",
            "Requirement already satisfied: setuptools in /usr/local/lib/python3.7/dist-packages (from fiona>=1.8->geopandas->matplotcheck) (57.4.0)\n",
            "Requirement already satisfied: cligj>=0.5 in /usr/local/lib/python3.7/dist-packages (from fiona>=1.8->geopandas->matplotcheck) (0.7.2)\n",
            "Requirement already satisfied: click>=4.0 in /usr/local/lib/python3.7/dist-packages (from fiona>=1.8->geopandas->matplotcheck) (7.1.2)\n",
            "Requirement already satisfied: munch in /usr/local/lib/python3.7/dist-packages (from fiona>=1.8->geopandas->matplotcheck) (2.5.0)\n",
            "Requirement already satisfied: click-plugins>=1.0 in /usr/local/lib/python3.7/dist-packages (from fiona>=1.8->geopandas->matplotcheck) (1.1.1)\n",
            "Requirement already satisfied: attrs>=17 in /usr/local/lib/python3.7/dist-packages (from fiona>=1.8->geopandas->matplotcheck) (21.2.0)\n",
            "Requirement already satisfied: certifi in /usr/local/lib/python3.7/dist-packages (from fiona>=1.8->geopandas->matplotcheck) (2021.5.30)\n",
            "Requirement already satisfied: pytz>=2017.2 in /usr/local/lib/python3.7/dist-packages (from pandas>=0.24.0->geopandas->matplotcheck) (2018.9)\n",
            "Requirement already satisfied: MarkupSafe>=0.23 in /usr/local/lib/python3.7/dist-packages (from jinja2->folium->matplotcheck) (2.0.1)\n",
            "Requirement already satisfied: affine in /usr/local/lib/python3.7/dist-packages (from rasterio->matplotcheck) (2.3.0)\n",
            "Requirement already satisfied: snuggs>=1.4.1 in /usr/local/lib/python3.7/dist-packages (from rasterio->matplotcheck) (1.4.7)\n",
            "Requirement already satisfied: idna<3,>=2.5 in /usr/local/lib/python3.7/dist-packages (from requests->folium->matplotcheck) (2.10)\n",
            "Requirement already satisfied: urllib3!=1.25.0,!=1.25.1,<1.26,>=1.21.1 in /usr/local/lib/python3.7/dist-packages (from requests->folium->matplotcheck) (1.24.3)\n",
            "Requirement already satisfied: chardet<4,>=3.0.2 in /usr/local/lib/python3.7/dist-packages (from requests->folium->matplotcheck) (3.0.4)\n"
          ]
        }
      ]
    },
    {
      "cell_type": "code",
      "metadata": {
        "deletable": false,
        "editable": false,
        "nbgrader": {
          "checksum": "9406b5deaded509d2159b7ec9d14fa69",
          "grade": false,
          "grade_id": "core-imports",
          "locked": true,
          "schema_version": 3,
          "solution": false
        },
        "id": "XYSAE1hHDufG"
      },
      "source": [
        "# Core imports needed for grading\n",
        "import matplotcheck.notebook as nb\n",
        "import matplotcheck.timeseries as ts"
      ],
      "execution_count": 3,
      "outputs": []
    },
    {
      "cell_type": "markdown",
      "metadata": {
        "deletable": false,
        "editable": false,
        "nbgrader": {
          "checksum": "23832c049cae96a9c2a6de98638dd6da",
          "grade": false,
          "grade_id": "question-student-imports",
          "locked": true,
          "schema_version": 3,
          "solution": false
        },
        "id": "vkXxx71jDufK"
      },
      "source": [
        "## Import Python Packages\n",
        "\n",
        "In the cell below, copy and paste the following code **after the line for `Your Code Here`**, replacing `raise NotImplementedError()` with your code:\n",
        "```python\n",
        "import matplotlib.pyplot as plt\n",
        "```\n",
        "\n",
        "This line of code will import the `matplotlib` package, which you will use to create a plot in later question.  \n",
        "\n",
        "You will learn more about Python packages in the next few weeks but for now, you can start to practice working with code cells and organizing Python code in Jupyter Notebook files.  "
      ]
    },
    {
      "cell_type": "code",
      "metadata": {
        "deletable": false,
        "nbgrader": {
          "checksum": "aaff8f2ce220bffa16c449a8f7f0b887",
          "grade": true,
          "grade_id": "student-imports-answer",
          "locked": false,
          "points": 1,
          "schema_version": 3,
          "solution": true
        },
        "id": "EUvzstD0DufM"
      },
      "source": [
        "# Import necessary packages\n",
        "\n",
        "# YOUR CODE HERE\n",
        "import matplotlib.pyplot as plt"
      ],
      "execution_count": 4,
      "outputs": []
    },
    {
      "cell_type": "markdown",
      "metadata": {
        "deletable": false,
        "editable": false,
        "nbgrader": {
          "checksum": "5a97b57b5175939adb22089f442be6aa",
          "grade": false,
          "grade_id": "student-create-variable-question",
          "locked": true,
          "schema_version": 3,
          "solution": false,
          "task": false
        },
        "id": "Xc0-3iDpDufN"
      },
      "source": [
        "## Create Variables\n",
        "\n",
        "In the cell below, add your code **after the line for `Your Code Here`**, replacing `raise NotImplementedError()` with your code, to complete the following task:\n",
        "\n",
        "* Create variables for monthly average snowfall for January through December. "
      ]
    },
    {
      "cell_type": "code",
      "metadata": {
        "deletable": false,
        "nbgrader": {
          "checksum": "7264fec3193f8ab5ad1afd665f638ad7",
          "grade": true,
          "grade_id": "student-create-variables-answer",
          "locked": false,
          "points": 3,
          "schema_version": 3,
          "solution": true,
          "task": false
        },
        "id": "HXECZ1zJDufO"
      },
      "source": [
        "# Create variables of monthly temp\n",
        "\n",
        "# YOUR CODE HERE\n",
        "Jan = 10.0\n",
        "Feb = 10.8\n",
        "Mar = 17.4\n",
        "Apr = 9.0\n",
        "May = 1.5\n",
        "June = 0.0\n",
        "July = 0.0\n",
        "Aug = 0.0\n",
        "Sept = 1.5\n",
        "Oct = 5.1\n",
        "Nov = 11.1\n",
        "Dec = 13.0"
      ],
      "execution_count": 5,
      "outputs": []
    },
    {
      "cell_type": "markdown",
      "metadata": {
        "deletable": false,
        "editable": false,
        "nbgrader": {
          "checksum": "edd7d1d78e19d9b80fa863296b860f2a",
          "grade": false,
          "grade_id": "question-calc-variables",
          "locked": true,
          "schema_version": 3,
          "solution": false,
          "task": false
        },
        "id": "T40RQ9BKDufP"
      },
      "source": [
        "## Run Calculations on Variables\n",
        "\n",
        "In the cell below, add your code **after the line for `Your Code Here`**, replacing `raise NotImplementedError()` with your code, to complete the following task:\n",
        "\n",
        "* Use the appropriate **assignment operator** to convert the variable values for January through December **from inches to millimeters** using the following equation. \n",
        "    * Recall that 1 inch = 25.4 mm. \n",
        "    * Hint: Think about which mathematical operation (e.g. `+`, `*`) you need to run this calculation."
      ]
    },
    {
      "cell_type": "code",
      "metadata": {
        "deletable": false,
        "nbgrader": {
          "checksum": "04195965fd3ad199cda116608e44b804",
          "grade": true,
          "grade_id": "student-calc-variables-answer",
          "locked": false,
          "points": 6,
          "schema_version": 3,
          "solution": true,
          "task": false
        },
        "id": "0MO8y18wDufQ"
      },
      "source": [
        "# Convert variable values from Fahrenheit to Celsius\n",
        "\n",
        "# YOUR CODE HERE\n",
        "Jan = (10.0 * 25.4)\n",
        "Feb = (10.8 * 25.4)\n",
        "Mar = (17.4 * 25.4)\n",
        "Apr = (9.0 * 25.4)\n",
        "May = (1.5 * 25.4)\n",
        "June = (0.0 * 25.4)\n",
        "July = (0.0 * 25.4)\n",
        "Aug = (0.0 * 25.4)\n",
        "Sept = (1.5 * 25.4)\n",
        "Oct = (5.1 * 25.4)\n",
        "Nov = (11.1 * 25.4)\n",
        "Dec = (13.0 * 25.4)"
      ],
      "execution_count": 6,
      "outputs": []
    },
    {
      "cell_type": "markdown",
      "metadata": {
        "deletable": false,
        "editable": false,
        "nbgrader": {
          "checksum": "701d8352e1ff2dcdeb576c183f50e6cc",
          "grade": false,
          "grade_id": "question-create-list-temp",
          "locked": true,
          "schema_version": 3,
          "solution": false,
          "task": false
        },
        "id": "lv453rzTDufR"
      },
      "source": [
        "## Create List of Converted Monthly Temperatures\n",
        "\n",
        "In the cell below, add your code **after the line for `Your Code Here`**, replacing `raise NotImplementedError()` with your code, to complete the following task:\n",
        "\n",
        "* Create a list for average monthly snowfall for Boulder, CO containing the **variables for January to December in millimeters**. "
      ]
    },
    {
      "cell_type": "code",
      "metadata": {
        "deletable": false,
        "nbgrader": {
          "checksum": "42a59a25f0805af46177e4ede7cafb01",
          "grade": true,
          "grade_id": "student-create-list-temp-answer",
          "locked": false,
          "points": 6,
          "schema_version": 3,
          "solution": true,
          "task": false
        },
        "id": "UztQfjZcDufS"
      },
      "source": [
        "# Create list of converted monthly temps\n",
        "\n",
        "# YOUR CODE HERE\n",
        "snowfall = [254.00, 274.32, 441.96, 228.60, 38.10, 0.00, 0.00, 0.00, 38.10, \n",
        "            129.54, 281.94, 330.20]"
      ],
      "execution_count": 7,
      "outputs": []
    },
    {
      "cell_type": "markdown",
      "metadata": {
        "deletable": false,
        "editable": false,
        "nbgrader": {
          "checksum": "6d639dc6f73f740891b37e8a95756bf2",
          "grade": false,
          "grade_id": "question-create-list-months",
          "locked": true,
          "schema_version": 3,
          "solution": false,
          "task": false
        },
        "id": "9SRblQV6DufT"
      },
      "source": [
        "## Create List of Month Names\n",
        "\n",
        "In the cell below, add your code **after the line for `Your Code Here`**, replacing `raise NotImplementedError()` with your code, to complete the following task:\n",
        "\n",
        "* Create a list containing the month names using **abbreviated** month names (e.g. Jan, Feb)."
      ]
    },
    {
      "cell_type": "code",
      "metadata": {
        "deletable": false,
        "nbgrader": {
          "checksum": "4d770e81370759a9ad52330db804190e",
          "grade": true,
          "grade_id": "student-create-list-months-answer",
          "locked": false,
          "points": 3,
          "schema_version": 3,
          "solution": true,
          "task": false
        },
        "id": "nYb351m9DufU"
      },
      "source": [
        "# Create list of month names\n",
        "\n",
        "# YOUR CODE HERE\n",
        "months = [\"Jan\", \"Feb\", \"Mar\", \"Apr\", \"May\", \"June\", \"July\", \"Aug\", \"Sept\", \n",
        "          \"Oct\", \"Nov\", \"Dec\"]\n"
      ],
      "execution_count": 8,
      "outputs": []
    },
    {
      "cell_type": "markdown",
      "metadata": {
        "deletable": false,
        "editable": false,
        "nbgrader": {
          "checksum": "5bbd7f65bac1987388e0f962e3d44336",
          "grade": false,
          "grade_id": "question-plot",
          "locked": true,
          "schema_version": 3,
          "solution": false
        },
        "id": "EqRIWndwDufU"
      },
      "source": [
        "## Create Plot From Lists\n",
        "\n",
        "In the cell below, add your code **after the line for `Your Code Here`**, replacing `raise NotImplementedError()` with your code, to complete the following task:\n",
        "\n",
        "* Create a **gray** plot (2 pts) of the monthly average snowfall for Boulder, CO **by replacing the `ax.bar` to `ax.plot` in your code**:\n",
        "    * Be sure to use the lists you created in previous questions for **snowfall in mm** (4 pts) and **abbreviated month names** (4 pts). \n",
        "    * Be sure to include an appropriate title for your plot (2 pts).\n",
        "    * Be sure to include clear labels for the x-axis (2 pts) and y-axis (2 pts), **including the units of measurement** where appropriate (2 pts).\n",
        "\n",
        "For your titles and labels, be sure to think about the following pieces of information that could help someone easily interpret the plot:\n",
        "* geographic coverage or extent of data.\n",
        "* duration or temporal extent of the data.\n",
        "* what was actually measured and/or represented by the data.\n",
        "* units of measurement."
      ]
    },
    {
      "cell_type": "code",
      "metadata": {
        "deletable": false,
        "nbgrader": {
          "checksum": "8334d2e108b59af48d1c32f6282c363a",
          "grade": false,
          "grade_id": "student-create-plot-1-answer",
          "locked": false,
          "schema_version": 3,
          "solution": true,
          "task": false
        },
        "id": "pmHfJv1uDufW",
        "colab": {
          "base_uri": "https://localhost:8080/",
          "height": 310
        },
        "outputId": "2b1aacf4-e8c1-4a22-faba-23a416368a40"
      },
      "source": [
        "# Create plot\n",
        "\n",
        "# YOUR CODE HERE\n",
        "months = [\"Jan\", \"Feb\", \"Mar\", \"Apr\", \"May\", \"June\", \"July\", \"Aug\", \"Sept\", \n",
        "          \"Oct\", \"Nov\", \"Dec\"]\n",
        "\n",
        "snowfall = [254.00, 274.32, 441.96, 228.60, 38.10, 0.00, 0.00, 0.00, 38.10, \n",
        "            129.54, 281.94, 330.20]\n",
        "\n",
        "fig, ax = plt.subplots()\n",
        "ax.plot(months, snowfall, color = 'gray')\n",
        "ax.set(title = \"Average Monthly Snowfall\\nBoulder, CO\", \n",
        "       xlabel = \"Month\", \n",
        "       ylabel = \"Snowfall\\n(mm)\")\n",
        "\n",
        "### DO NOT REMOVE LINE BELOW ###\n",
        "ts_1_plot = nb.convert_axes(plt)"
      ],
      "execution_count": 9,
      "outputs": [
        {
          "output_type": "display_data",
          "data": {
            "image/png": "[encoded data removed]",
            "text/plain": [
              "<Figure size 432x288 with 1 Axes>"
            ]
          },
          "metadata": {
            "needs_background": "light"
          }
        }
      ]
    },
    {
      "cell_type": "markdown",
      "metadata": {
        "deletable": false,
        "editable": false,
        "nbgrader": {
          "checksum": "b100cc75d98dec719e7247f36023efad",
          "grade": false,
          "grade_id": "question-explain-plot",
          "locked": true,
          "schema_version": 3,
          "solution": false
        },
        "id": "W78m0VKBDufX"
      },
      "source": [
        "## Explain Your Plot\n",
        "\n",
        "In the Markdown cell below, answer the following questions about your plot using a **numbered list**.\n",
        "\n",
        "1. How did changing the `ax.bar` to `ax.plot` affect your plot (i.e. the output of your code)? \n",
        "2. Thinking broadly about plots in general - when might you want to use `ax.plot` versus `ax.bar`? \n",
        "    * There is no strictly correct answer for this second question. It is meant to get you thinking about how the decision of a plot type can influence how others interpret your plot or how clearly the message of your plot comes across. \n",
        "\n",
        "Remove any existing text in the cell before adding your answer."
      ]
    },
    {
      "cell_type": "markdown",
      "metadata": {
        "deletable": false,
        "nbgrader": {
          "checksum": "11630646a30a7614d12af030487d55b5",
          "grade": true,
          "grade_id": "student-explain-plot-answer",
          "locked": false,
          "points": 12,
          "schema_version": 3,
          "solution": true
        },
        "id": "TBkiTm9fDufX"
      },
      "source": [
        "\n",
        "\n",
        "1.   Changing the `ax.bar` to `ax.plot` affected my plot by changing it from a bar graph to a plotted line.\n",
        "\n",
        "2.   The plot type better depicts a continuity to the X variable data. In other words, the plot depicts a chnage in the X varibale over time, in this case from Jan to Dec. A bar graph, while still showing the same data, would not indicate a continuity between the X variables.\n",
        "\n"
      ]
    },
    {
      "cell_type": "markdown",
      "metadata": {
        "deletable": false,
        "editable": false,
        "nbgrader": {
          "checksum": "3005c84b0ba4e1ef12623732c0eb74c1",
          "grade": false,
          "grade_id": "question-explain-pep-8",
          "locked": true,
          "schema_version": 3,
          "solution": false,
          "task": false
        },
        "id": "dgqMdmWXDufZ"
      },
      "source": [
        "## Discuss Use of Version Control \n",
        "\n",
        "Think of a specific time when you were not using version control in which it would have been useful (e.g. course or work project, applications to school or jobs). \n",
        "\n",
        "In the Markdown cell below, answer the following questions about the PEP 8 style guide using a **bullet list**:\n",
        "\n",
        "1. Why would version control have been helpful to your project or workflow?\n",
        "2. What were the consequences of not having a version control system in place?\n",
        "\n",
        "Remove any existing text in the cell before adding your answer."
      ]
    },
    {
      "cell_type": "markdown",
      "metadata": {
        "deletable": false,
        "nbgrader": {
          "checksum": "7373568b67c0f2ed6fbabca8a4b8e77d",
          "grade": true,
          "grade_id": "student-explain-pep-8",
          "locked": false,
          "points": 12,
          "schema_version": 3,
          "solution": true,
          "task": false
        },
        "id": "GQqOn6PVDufa"
      },
      "source": [
        "\n",
        "\n",
        "*   I work frequently with the Adobe Draw graphic design software on my iPad and, to the best of my knowledge, there is no version control. If I make a mistake with the drawing/design, I have to hit \"undo\" to go back to the previous version. This can be frustrating, for if I do not immediately catch the mistake, I can make dozens more additions before I notice it. From there, I either have to click undo twenty times and lose all of my work up to that point, or try a workaround to fix the mistake while not ruining the rest of the design. With version control, I would be able to go back and fix the mistake without having to erase all of my work from that point.\n",
        "\n",
        "*   Not having a version control system in place means you are unable ro save and review, or revert to previous versions of your work. You are also unable to collaborate freely on a single project. You run the risk of a collaborator overwriting previous work.\n",
        "\n"
      ]
    }
  ]
}